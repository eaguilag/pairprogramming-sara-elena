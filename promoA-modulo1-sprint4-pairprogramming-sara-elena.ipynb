{
 "cells": [
  {
   "cell_type": "markdown",
   "metadata": {},
   "source": [
    "# Pair programming Sentencias Control"
   ]
  },
  {
   "cell_type": "markdown",
   "metadata": {},
   "source": [
    "if-else y while"
   ]
  },
  {
   "cell_type": "markdown",
   "metadata": {},
   "source": [
    "## Ejercicios if-else"
   ]
  },
  {
   "cell_type": "markdown",
   "metadata": {},
   "source": [
    "1. Verificar si un número es positivo, negativo o cero\n",
    "\n",
    "- Descripción: Dado un número, verifica si es positivo, negativo o cero."
   ]
  },
  {
   "cell_type": "code",
   "execution_count": 13,
   "metadata": {},
   "outputs": [
    {
     "name": "stdout",
     "output_type": "stream",
     "text": [
      "El numero 5.0 es positivo\n"
     ]
    }
   ],
   "source": [
    "numero = float(input('Introduce un numero:'))\n",
    "\n",
    "if numero == 0:\n",
    "    tipo_numero = \"0\"\n",
    "elif numero < 0:\n",
    "    tipo_numero = \"negativo\"\n",
    "else:\n",
    "    tipo_numero = \"positivo\"\n",
    "\n",
    "print(f'El numero {numero} es {tipo_numero}')"
   ]
  },
  {
   "cell_type": "markdown",
   "metadata": {},
   "source": [
    "2. Verificar si un número es par o impar\n",
    "\n",
    "- Descripción: Dado un número, verifica si es par o impar."
   ]
  },
  {
   "cell_type": "code",
   "execution_count": 14,
   "metadata": {},
   "outputs": [
    {
     "name": "stdout",
     "output_type": "stream",
     "text": [
      "El numero 5 es impar.\n"
     ]
    }
   ],
   "source": [
    "numero2 = 5\n",
    "\n",
    "if numero % 2 == 0:\n",
    "    tipo_numero2 = \"par\"\n",
    "else:\n",
    "    tipo_numero2 = \"impar\"\n",
    "\n",
    "print(f\"El numero {numero2} es {tipo_numero2}.\")\n"
   ]
  },
  {
   "cell_type": "markdown",
   "metadata": {},
   "source": [
    "3. Verificar si un estudiante aprobó o suspendió un examen\n",
    "\n",
    "- Descripción: Dada la calificación de un estudiante en un examen, verifica si aprobó o suspendió (si la calificación es mayor o igual a 60 se considera aprobado)."
   ]
  },
  {
   "cell_type": "code",
   "execution_count": 15,
   "metadata": {},
   "outputs": [
    {
     "name": "stdout",
     "output_type": "stream",
     "text": [
      "El estudianto con nota 75.0 está Aprobado\n"
     ]
    }
   ],
   "source": [
    "calificacion = float(input(\"Introduce la nota del estudiante:\"))\n",
    "\n",
    "if calificacion >= 60:\n",
    "    estado = \"Aprobado\"\n",
    "else:\n",
    "    estado = \"Suspenso\"\n",
    "\n",
    "print(f'El estudianto con nota {calificacion} está {estado}')"
   ]
  },
  {
   "cell_type": "markdown",
   "metadata": {},
   "source": [
    "4. Calcular el máximo entre dos números\n",
    "\n",
    "- Descripción: Dados dos números, encuentra el máximo entre ellos."
   ]
  },
  {
   "cell_type": "code",
   "execution_count": 16,
   "metadata": {},
   "outputs": [
    {
     "name": "stdout",
     "output_type": "stream",
     "text": [
      "Dado el numero 5.0 y el numero 2.0, el máximo es 5.0\n"
     ]
    }
   ],
   "source": [
    "num1 = float(input('Introduce un numero:'))\n",
    "num2 = float(input('Introduce otro numero:'))\n",
    "\n",
    "if num1 > num2:\n",
    "    num_max = num1\n",
    "else:\n",
    "    num_max = num2\n",
    "\n",
    "print(f'Dado el numero {num1} y el numero {num2}, el máximo es {num_max}')"
   ]
  },
  {
   "cell_type": "markdown",
   "metadata": {},
   "source": [
    "5. Verificar si una letra es una vocal o una consonante\n",
    "\n",
    "- Descripción: Dada una letra, verifica si es una vocal o una consonante."
   ]
  },
  {
   "cell_type": "code",
   "execution_count": 17,
   "metadata": {},
   "outputs": [
    {
     "name": "stdout",
     "output_type": "stream",
     "text": [
      "La letra introducida c es consonante\n"
     ]
    }
   ],
   "source": [
    "letra = (input('Introduce una letra:'))\n",
    "vocales = ['a', 'e', 'i', 'o', 'u']\n",
    "\n",
    "if letra in vocales:\n",
    "    tipo_letra = \"vocal\"\n",
    "else:\n",
    "    tipo_letra = \"consonante\"\n",
    "\n",
    "print(f'La letra introducida {letra} es {tipo_letra}')\n",
    "\n",
    "# Como saber si es otro dato introducido no es una letra, ya que todo input es un str y lo siguiente no funcionaria:\n",
    "\n",
    "#if isinstance(letra, (float, int, list, dict, tuple)):\n",
    "#    tipo_letra = \"otro dato\""
   ]
  },
  {
   "cell_type": "markdown",
   "metadata": {},
   "source": [
    "6. Calcular el descuento en una compra según el monto total\n",
    "\n",
    "- Descripción: Dado el monto total de una compra, calcula el descuento aplicado según las siguientes condiciones: si el monto es mayor o igual a $100, aplica un descuento del 10%; de lo contrario, no aplica ningún descuento.\n"
   ]
  },
  {
   "cell_type": "code",
   "execution_count": 18,
   "metadata": {},
   "outputs": [
    {
     "name": "stdout",
     "output_type": "stream",
     "text": [
      "El descuento es: 0\n"
     ]
    }
   ],
   "source": [
    "# Tengo un gasto\n",
    "compra = float(input('¿Cuanto te has gastado en la compra?'))\n",
    "\n",
    "# Si el gasto es mayor que 100, se aplica un 10% de descuento\n",
    "if compra >= 100:\n",
    "    descuento = compra * 0.1\n",
    "# Si no, no hay descuento\n",
    "else:\n",
    "    descuento = 0\n",
    "\n",
    "# Printeo si hay descuento o no\n",
    "print('El descuento es:', descuento)"
   ]
  },
  {
   "cell_type": "markdown",
   "metadata": {},
   "source": [
    "7. Verificar si un año es bisiesto o no\n",
    "\n",
    "- Descripción: Dado un año, verifica si es bisiesto o no (un año es bisiesto si es divisible entre 4, excepto aquellos divisibles entre 100 pero no entre 400)."
   ]
  },
  {
   "cell_type": "code",
   "execution_count": 19,
   "metadata": {},
   "outputs": [
    {
     "name": "stdout",
     "output_type": "stream",
     "text": [
      "¿El año 2024 es bisiesto? True\n"
     ]
    }
   ],
   "source": [
    "anno = int(input('Introduce un año para saber si es bisiesto:'))\n",
    "\n",
    "if anno % 4 == 0:\n",
    "    if anno % 100 == 0:\n",
    "        if anno % 400 == 0:\n",
    "            bisiesto = True\n",
    "        else:\n",
    "            bisiesto = False\n",
    "    else:\n",
    "        bisiesto = True\n",
    "else:\n",
    "    bisiesto = False\n",
    "\n",
    "print(f'¿El año {anno} es bisiesto? {bisiesto}')"
   ]
  },
  {
   "cell_type": "markdown",
   "metadata": {},
   "source": [
    "8. Asignar una categoría a una edad\n",
    "\n",
    "- Descripción: Dada una edad, asigna una categoría según las siguientes condiciones: si la edad es menor de 18, la categoría es \"Menor de edad\"; si la edad está entre 18 y 64 (incluyendo ambos), la categoría es \"Adulto\"; de lo contrario, la categoría es \"Adulto mayor\"."
   ]
  },
  {
   "cell_type": "code",
   "execution_count": 20,
   "metadata": {},
   "outputs": [
    {
     "name": "stdout",
     "output_type": "stream",
     "text": [
      "Categoria: Adulto\n"
     ]
    }
   ],
   "source": [
    "edad = 45\n",
    "\n",
    "if edad < 18:\n",
    "    categoria = 'Menor de edad'\n",
    "elif edad >= 18 and edad <= 64:\n",
    "    categoria = 'Adulto'\n",
    "else:\n",
    "    categoria = 'Adulto mayor'\n",
    "\n",
    "print('Categoria:', categoria)"
   ]
  },
  {
   "cell_type": "markdown",
   "metadata": {},
   "source": [
    "9. Verificar si tres números forman un triángulo rectángulo\n",
    "\n",
    "- Descripción: Dados tres números, verifica si forman un triángulo rectángulo (si se cumple el teorema de Pitágoras)."
   ]
  },
  {
   "cell_type": "code",
   "execution_count": 27,
   "metadata": {},
   "outputs": [
    {
     "name": "stdout",
     "output_type": "stream",
     "text": [
      "¡Correcto! Estos 3 numero si forman un triangulo rectangulo. Los catetos son 5.0 y 12.0, y la hipotenusa 13.0.\n"
     ]
    }
   ],
   "source": [
    "# El teorema de pitagoras es c^2 = a^2 + b^2, siendo c la hipotenusa\n",
    "# Pido al usuario 3 valores (5, 12 y 13 deberian de dar que sí)\n",
    "lado1 = float(input('Intorduce un numero:'))\n",
    "lado2 = float(input('Intorduce otro numero:'))\n",
    "lado3 = float(input('Introduce el último:'))\n",
    "\n",
    "\n",
    "# Compruebo si se cumple que alguno de los lado es la hipotenusa de los otros lados\n",
    "if lado1**2 == lado2**2 + lado3**2:\n",
    "    print(f'¡Correcto! Estos 3 numero si forman un triangulo rectangulo. Los catetos son {lado2} y {lado3}, y la hipotenusa {lado1}.')\n",
    "elif lado2**2 == lado1**2 + lado3**2:\n",
    "    print(f'¡Correcto! Estos 3 numero si forman un triangulo rectangulo. Los catetos son {lado1} y {lado3}, y la hipotenusa {lado2}.')\n",
    "elif lado3**2 == lado1**2 + lado2**2:\n",
    "    print(f'¡Correcto! Estos 3 numero si forman un triangulo rectangulo. Los catetos son {lado1} y {lado2}, y la hipotenusa {lado3}.')\n",
    "else:\n",
    "    print('Error. Estos 3 numero no forman un triangulo rectangulo')"
   ]
  },
  {
   "cell_type": "code",
   "execution_count": 30,
   "metadata": {},
   "outputs": [
    {
     "name": "stdout",
     "output_type": "stream",
     "text": [
      "¡Correcto! Estos 3 numero si forman un triangulo rectangulo.\n"
     ]
    }
   ],
   "source": [
    "lado1 = float(input('Intorduce un numero:'))\n",
    "lado2 = float(input('Intorduce otro numero:'))\n",
    "lado3 = float(input('Introduce el último:'))\n",
    "\n",
    "\n",
    "# Pruebo con 'or' y también funciona\n",
    "if lado1**2 == lado2**2 + lado3**2 or lado2**2 == lado1**2 + lado3**2 or lado3**2 == lado1**2 + lado2**2:\n",
    "    print('¡Correcto! Estos 3 numero si forman un triangulo rectangulo.')\n",
    "else:\n",
    "    print('Error. Estos 3 numero no forman un triangulo rectangulo')"
   ]
  },
  {
   "cell_type": "markdown",
   "metadata": {},
   "source": [
    "10. Asignar una calificación a una puntuación\n",
    "\n",
    "- Descripción: Dada una puntuación, asigna una calificación según las siguientes condiciones: si la puntuación es mayor o igual a 90, la calificación es \"A\"; si es mayor o igual a 80, la calificación es \"B\"; si es mayor o igual a 70, la calificación es \"C\"; si es mayor o igual a 60, la calificación es \"D\"; de lo contrario, la calificación es \"F\"."
   ]
  },
  {
   "cell_type": "code",
   "execution_count": 31,
   "metadata": {},
   "outputs": [
    {
     "data": {
      "text/plain": [
       "'C'"
      ]
     },
     "execution_count": 31,
     "metadata": {},
     "output_type": "execute_result"
    }
   ],
   "source": [
    "puntuacion = float(input('Introduce tu puntuacion:'))\n",
    "\n",
    "if puntuacion >= 90:\n",
    "    calificacion = 'A'\n",
    "elif puntuacion >= 80:\n",
    "    calificacion = 'B'\n",
    "elif puntuacion >= 70:\n",
    "    calificacion = 'C'\n",
    "elif puntuacion >= 60:\n",
    "    calificacion = 'D'\n",
    "else:\n",
    "    calificacion = 'F'\n",
    "\n",
    "calificacion\n",
    "#print('Tu calificacion es: ' + calificacion)"
   ]
  },
  {
   "cell_type": "markdown",
   "metadata": {},
   "source": [
    "11. Calcular el índice de masa corporal (IMC) y categorizarlo\n",
    "\n",
    "- Descripción: Dados el peso (en kg) y la altura (en metros) de una persona, calcula su IMC y categorízalo según las siguientes condiciones: si el IMC es menor a 18.5, es \"Bajo peso\"; si está entre 18.5 y 24.9 (inclusive), es \"Peso normal\"; si está entre 25 y 29.9 (inclusive), es \"Sobrepeso\"; de lo contrario, es \"Obesidad\"."
   ]
  },
  {
   "cell_type": "code",
   "execution_count": 32,
   "metadata": {},
   "outputs": [
    {
     "data": {
      "text/plain": [
       "'Peso normal'"
      ]
     },
     "execution_count": 32,
     "metadata": {},
     "output_type": "execute_result"
    }
   ],
   "source": [
    "peso = float(input('Introduce el peso:'))\n",
    "estatura = float(input('Introduce el estatura:'))\n",
    "imc = peso / (estatura ** 2)\n",
    "\n",
    "if imc < 18.5:\n",
    "    resultado = 'Bajo peso'\n",
    "elif 18.5 <= imc <= 24.9:\n",
    "    resultado = 'Peso normal'\n",
    "elif 25 <= imc <= 29.9:\n",
    "    resultado = 'Sobrepeso'\n",
    "else:\n",
    "    resultado = 'Obesidad'\n",
    "\n",
    "resultado"
   ]
  },
  {
   "cell_type": "markdown",
   "metadata": {},
   "source": [
    "12. Calcular el mayor de tres números\n",
    "\n",
    "- Descripción: Dados tres números, encuentra el mayor entre ellos."
   ]
  },
  {
   "cell_type": "code",
   "execution_count": 33,
   "metadata": {},
   "outputs": [
    {
     "data": {
      "text/plain": [
       "3.0"
      ]
     },
     "execution_count": 33,
     "metadata": {},
     "output_type": "execute_result"
    }
   ],
   "source": [
    "num1 = float(input('Introduce el primer numero:'))\n",
    "num2 = float(input('Introduce el segundo numero:'))\n",
    "num3 = float(input('Introduce el tercer numero:'))\n",
    "\n",
    "if num1 > num2 and num1 > num3:\n",
    "    num_mayor = num1\n",
    "elif num2 > num1 and num2 > num3:\n",
    "    num_mayor = num2\n",
    "else:\n",
    "    num_mayor = num3\n",
    "\n",
    "num_mayor\n",
    "\n",
    "#print(f'El numero mayor de los tres que has ingresado es el {num_mayor}')"
   ]
  },
  {
   "cell_type": "markdown",
   "metadata": {},
   "source": [
    "13. BONUS sentencias de control: Verificar la validez de una fecha\n",
    "\n",
    "- Descripción: Dados el día, el mes y el año de una fecha, verifica si la fecha es válida."
   ]
  },
  {
   "cell_type": "code",
   "execution_count": 40,
   "metadata": {},
   "outputs": [
    {
     "name": "stdout",
     "output_type": "stream",
     "text": [
      "29 de febrero de 2023\n"
     ]
    }
   ],
   "source": [
    "dia = [1, 2, 3, 4, 5, 6, 7, 8, 9, 10, 11, 12, 13, 14, 15, 16, 17, 18, 19, 20, 21, 22, 23, 24, 25, 26, 27, 28, 29, 30, 31]\n",
    "mes_31 = ['enero', 'marzo', 'mayo', 'julio', 'agosto', 'octubre', 'diciembre']\n",
    "mes_30 = ['abril', 'junio', 'septiembre', 'noviembre']\n",
    "mes_28_29 = 'febrero'\n",
    "\n",
    "dia_usuario = int(input('Introduce un dia: '))\n",
    "mes_usuario = input('Introduce un mes: ')\n",
    "anno_usuario = int(input('Introduce un año: '))\n",
    "\n",
    "fecha = str(dia_usuario) + ' de ' + str(mes_usuario) + ' de ' + str(anno_usuario)\n",
    "\n",
    "if dia_usuario in dia:\n",
    "    if dia_usuario <= 31 and mes_usuario.lower() in mes_31:\n",
    "        print(fecha)\n",
    "    elif dia_usuario <= 30 and mes_usuario.lower() in mes_30:\n",
    "        print(fecha)\n",
    "    elif dia_usuario <= 28 and mes_usuario.lower() == mes_28_29:\n",
    "        if anno_usuario != 4:\n",
    "            if anno_usuario % 100 == 0:\n",
    "                if anno % 400 == 0:\n",
    "                    print('Fecha erronea')\n",
    "                else:\n",
    "                    print(fecha)\n",
    "            else:\n",
    "                print('Fecha erronea')\n",
    "        else:\n",
    "            print(fecha)\n",
    "    else:\n",
    "        print(fecha)\n",
    "else:\n",
    "    print('Fecha erronea')\n",
    "\n",
    "# REVISAR, NO TERMINA DE FUNCIONAR!"
   ]
  },
  {
   "cell_type": "code",
   "execution_count": null,
   "metadata": {},
   "outputs": [],
   "source": [
    "if anno % 4 == 0:\n",
    "    if anno % 100 == 0:\n",
    "        if anno % 400 == 0:\n",
    "            bisiesto = True\n",
    "        else:\n",
    "            bisiesto = False\n",
    "    else:\n",
    "        bisiesto = True\n",
    "else:\n",
    "    bisiesto = False"
   ]
  },
  {
   "cell_type": "markdown",
   "metadata": {},
   "source": [
    "# Ejercicios while"
   ]
  },
  {
   "cell_type": "markdown",
   "metadata": {},
   "source": [
    "1. Calcular la suma de los primeros 10 números naturales utilizando un bucle while\n",
    "\n",
    "- Descripción: Utiliza un bucle while para calcular la suma de los primeros 10 números naturales (1 + 2 + 3 + ... + 10)."
   ]
  },
  {
   "cell_type": "code",
   "execution_count": 12,
   "metadata": {},
   "outputs": [
    {
     "name": "stdout",
     "output_type": "stream",
     "text": [
      "15\n"
     ]
    }
   ],
   "source": [
    "# Declaro una variable contador\n",
    "contador = 1\n",
    "suma = 0\n",
    "\n",
    "# Condicion para que salga del bucle\n",
    "while contador <= 10:\n",
    "    suma += contador\n",
    "    contador += contador\n",
    "\n",
    "print(suma)"
   ]
  },
  {
   "cell_type": "markdown",
   "metadata": {},
   "source": [
    "2. Juego de adivinanza utilizando un bucle while\n",
    "\n",
    "Descripción: Crea un juego de adivinanza en el que el jugador tiene que adivinar un número secreto (tendrá que ser entre el 0 y el 10). Utiliza un bucle while para permitir múltiples intentos hasta que el jugador adivine correctamente."
   ]
  },
  {
   "cell_type": "code",
   "execution_count": null,
   "metadata": {},
   "outputs": [],
   "source": [
    "juega = input('¿Quieres jugar? y/n: ')\n",
    "secreto = 5\n",
    "\n",
    "while juega == 'y':\n",
    "    numero = int(input('Adivina un numero del 0 al 10: '))\n",
    "\n",
    "    if numero == secreto:\n",
    "        print('¡Has adivinado!')\n",
    "        juega = 'n'\n",
    "    else:\n",
    "        juega = input('¡No has acertado! Quieres probar de nuevo? y/n: ')"
   ]
  }
 ],
 "metadata": {
  "kernelspec": {
   "display_name": "Python 3",
   "language": "python",
   "name": "python3"
  },
  "language_info": {
   "codemirror_mode": {
    "name": "ipython",
    "version": 3
   },
   "file_extension": ".py",
   "mimetype": "text/x-python",
   "name": "python",
   "nbconvert_exporter": "python",
   "pygments_lexer": "ipython3",
   "version": "3.6.9"
  }
 },
 "nbformat": 4,
 "nbformat_minor": 2
}
